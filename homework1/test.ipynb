{
 "cells": [
  {
   "cell_type": "code",
   "execution_count": 1,
   "id": "a00aca66",
   "metadata": {},
   "outputs": [],
   "source": [
    "import torch"
   ]
  },
  {
   "cell_type": "code",
   "execution_count": 2,
   "id": "e91c220a",
   "metadata": {},
   "outputs": [
    {
     "name": "stdout",
     "output_type": "stream",
     "text": [
      "tensor([[  0.,  10.],\n",
      "        [100.,   0.],\n",
      "        [  0.,   0.]])\n"
     ]
    }
   ],
   "source": [
    "def create_sample_tensor():\n",
    "    \"\"\"\n",
    "    Return a torch Tensor of shape (3, 2) which is filled with zeros, except for\n",
    "    element (0, 1) which is set to 10 and element (1, 0) which is set to 100.\n",
    "\n",
    "    Inputs: None\n",
    "\n",
    "    Returns:\n",
    "    - Tensor of shape (3, 2) as described above.\n",
    "    \"\"\"\n",
    "    x = torch.zeros(size=(3, 2))\n",
    "    #############################################################################\n",
    "    #                    TODO: Implement this function                          #\n",
    "    #############################################################################\n",
    "    x[0][1] = 10\n",
    "    x[1][0] = 100\n",
    "    #############################################################################\n",
    "    #                            END OF YOUR CODE                               #\n",
    "    #############################################################################\n",
    "    return x\n",
    "\n",
    "x = create_sample_tensor()\n",
    "print(x)"
   ]
  },
  {
   "cell_type": "code",
   "execution_count": 3,
   "id": "dc816727",
   "metadata": {},
   "outputs": [
    {
     "name": "stdout",
     "output_type": "stream",
     "text": [
      "tensor([[  3.,  10.],\n",
      "        [100.,   2.],\n",
      "        [  0.,   0.]])\n"
     ]
    }
   ],
   "source": [
    "def mutate_tensor(x, indices, values):\n",
    "    \"\"\"\n",
    "    Mutate the PyTorch tensor x according to indices and values.\n",
    "    Specifically, indices is a list [(i0, j0), (i1, j1), ... ] of integer indices,\n",
    "    and values is a list [v0, v1, ...] of values. This function should mutate x\n",
    "    by setting:\n",
    "\n",
    "    x[i0, j0] = v0\n",
    "    x[i1, j1] = v1\n",
    "\n",
    "    and so on.\n",
    "\n",
    "    If the same index pair appears multiple times in indices, you should set x to\n",
    "    the last one.\n",
    "\n",
    "    Inputs:\n",
    "    - x: A Tensor of shape (H, W)\n",
    "    - indicies: A list of N tuples [(i0, j0), (i1, j1), ..., ]\n",
    "    - values: A list of N values [v0, v1, ...]\n",
    "\n",
    "    Returns:\n",
    "    - The input tensor x\n",
    "    \"\"\"\n",
    "    #############################################################################\n",
    "    #                    TODO: Implement this function                          #\n",
    "    #############################################################################\n",
    "    for idx, val in zip(indices, values):\n",
    "        i, j = idx\n",
    "        x[i, j] = val\n",
    "    \n",
    "    #############################################################################\n",
    "    #                            END OF YOUR CODE                               #\n",
    "    #############################################################################\n",
    "    return x\n",
    "\n",
    "x = mutate_tensor(x, [(0, 0), (1, 1)], [3, 2])\n",
    "print(x)"
   ]
  },
  {
   "cell_type": "code",
   "execution_count": 4,
   "id": "cde9420e",
   "metadata": {},
   "outputs": [
    {
     "name": "stdout",
     "output_type": "stream",
     "text": [
      "6\n"
     ]
    }
   ],
   "source": [
    "def count_tensor_elements(x):\n",
    "    \"\"\"\n",
    "    Count the number of scalar elements in a tensor x.\n",
    "\n",
    "    For example, a tensor of shape (10,) has 10 elements.a tensor of shape (3, 4)\n",
    "    has 12 elements; a tensor of shape (2, 3, 4) has 24 elements, etc.\n",
    "\n",
    "    You may not use the functions torch.numel or x.numel. The input tensor should\n",
    "    not be modified.\n",
    "\n",
    "    Inputs:\n",
    "    - x: A tensor of any shape\n",
    "\n",
    "    Returns:\n",
    "    - num_elements: An integer giving the number of scalar elements in x\n",
    "    \"\"\"\n",
    "    num_elements = 1\n",
    "    #############################################################################\n",
    "    #                    TODO: Implement this function                          #\n",
    "    #   You CANNOT use the built-in functions torch.numel(x) or x.numel().      #\n",
    "    #############################################################################\n",
    "    for num in x.size():\n",
    "        num_elements *= num\n",
    "    #############################################################################\n",
    "    #                            END OF YOUR CODE                               #\n",
    "    #############################################################################\n",
    "    return num_elements\n",
    "\n",
    "print(count_tensor_elements(x))"
   ]
  },
  {
   "cell_type": "code",
   "execution_count": 5,
   "id": "c70de55b",
   "metadata": {},
   "outputs": [
    {
     "data": {
      "text/plain": [
       "tensor([[3.1416, 3.1416],\n",
       "        [3.1416, 3.1416],\n",
       "        [3.1416, 3.1416]])"
      ]
     },
     "execution_count": 5,
     "metadata": {},
     "output_type": "execute_result"
    }
   ],
   "source": [
    "def create_tensor_of_pi(M, N):\n",
    "    \"\"\"\n",
    "    Returns a Tensor of shape (M, N) filled entirely with the value 3.14\n",
    "\n",
    "    Inputs:\n",
    "    - M, N: Positive integers giving the shape of Tensor to create\n",
    "\n",
    "    Returns:\n",
    "    - x: A tensor of shape (M, N) filled with the value 3.14\n",
    "    \"\"\"\n",
    "    x = torch.zeros(size=(M, N))\n",
    "    #############################################################################\n",
    "    #       TODO: Implement this function. It should take one line.             #\n",
    "    #############################################################################\n",
    "    # Replace \"pass\" statement with your code\n",
    "    x[:, :] = torch.pi\n",
    "    #############################################################################\n",
    "    #                            END OF YOUR CODE                               #\n",
    "    #############################################################################\n",
    "    return x\n",
    "\n",
    "create_tensor_of_pi(3, 2)"
   ]
  },
  {
   "cell_type": "code",
   "execution_count": 6,
   "id": "1f29710e",
   "metadata": {},
   "outputs": [
    {
     "data": {
      "text/plain": [
       "tensor([ 10.,  20.,  30.,  40.,  50.,  60.,  70.,  80.,  90., 100.],\n",
       "       dtype=torch.float64)"
      ]
     },
     "execution_count": 6,
     "metadata": {},
     "output_type": "execute_result"
    }
   ],
   "source": [
    "def multiples_of_ten(start, stop):\n",
    "    \"\"\"\n",
    "    Returns a Tensor of dtype torch.float64 that contains all of the multiples of\n",
    "    ten (in order) between start and stop, inclusive. If there are no multiples\n",
    "    of ten in this range you should return an empty tensor of shape (0,).\n",
    "\n",
    "    Inputs:\n",
    "    - start, stop: Integers with start <= stop specifying the range to create.\n",
    "\n",
    "    Returns:\n",
    "    - x: Tensor of dtype float64 giving multiples of ten between start and stop.\n",
    "    \"\"\"\n",
    "    assert start <= stop\n",
    "    #############################################################################\n",
    "    #                    TODO: Implement this function                          #\n",
    "    #############################################################################\n",
    "    \n",
    "    # Compute the smallest multiple of ten that is >= start\n",
    "    if start % 10 != 0:\n",
    "        start = start + (10 - start % 10)\n",
    "\n",
    "    # Compute the largest multiple of ten that is <= stop\n",
    "    stop = stop - stop % 10\n",
    "\n",
    "    # Check if there are no multiples of ten in the range\n",
    "    if start > stop:\n",
    "        x = torch.tensor([], dtype=torch.float64)\n",
    "    else:\n",
    "        # Generate the tensor of multiples of ten\n",
    "        x = torch.arange(start, stop + 1, 10, dtype=torch.float64)\n",
    "    \n",
    "    #############################################################################\n",
    "    #                            END OF YOUR CODE                               #\n",
    "    #############################################################################\n",
    "    return x\n",
    "\n",
    "multiples_of_ten(1, 100)"
   ]
  },
  {
   "cell_type": "code",
   "execution_count": 7,
   "id": "9378f1e4",
   "metadata": {},
   "outputs": [
    {
     "name": "stdout",
     "output_type": "stream",
     "text": [
      "tensor([[ 0.0470,  1.3683, -0.3991, -0.0672, -2.2077, -0.5628],\n",
      "        [ 0.1765, -0.5895,  0.5461,  0.1979, -0.9206, -0.6501],\n",
      "        [ 1.9693,  1.0864,  1.2956,  0.2773, -0.2656,  0.2592],\n",
      "        [-0.2349, -0.1027, -1.0232,  1.0789, -0.0184, -1.5451],\n",
      "        [-0.9607,  2.2951,  0.1725,  0.0844, -1.0673, -0.4812],\n",
      "        [-0.5253,  1.3649, -0.1693, -0.4050,  0.0250,  0.1875]])\n"
     ]
    },
    {
     "data": {
      "text/plain": [
       "(tensor([-0.5253,  1.3649, -0.1693, -0.4050,  0.0250,  0.1875]),\n",
       " tensor([-0.3991,  0.5461,  1.2956, -1.0232,  0.1725, -0.1693]),\n",
       " tensor([[ 0.0470,  1.3683, -0.3991],\n",
       "         [ 0.1765, -0.5895,  0.5461]]),\n",
       " tensor([[ 0.1765,  0.5461, -0.9206],\n",
       "         [-0.2349, -1.0232, -0.0184],\n",
       "         [-0.5253, -0.1693,  0.0250]]))"
      ]
     },
     "execution_count": 7,
     "metadata": {},
     "output_type": "execute_result"
    }
   ],
   "source": [
    "def slice_indexing_practice(x):\n",
    "    \"\"\"\n",
    "    Given a two-dimensional tensor x, extract and return several subtensors to\n",
    "    practice with slice indexing. Each tensor should be created using a single\n",
    "    slice indexing operation.\n",
    "\n",
    "    The input tensor should not be modified.\n",
    "\n",
    "    Input:\n",
    "    - x: Tensor of shape (M, N) -- M rows, N columns with M >= 3 and N >= 5.\n",
    "\n",
    "    Returns a tuple of:\n",
    "    - last_row: Tensor of shape (N,) giving the last row of x. It should be a\n",
    "        one-dimensional tensor.\n",
    "    - third_col: Tensor of shape (M, 1) giving the third column of x.\n",
    "        It should be a two-dimensional tensor.\n",
    "    - first_two_rows_three_cols: Tensor of shape (2, 3) giving the data in the\n",
    "        first two rows and first three columns of x.\n",
    "    - even_rows_odd_cols: Two-dimensional tensor containing the elements in the\n",
    "        even-valued rows and odd-valued columns of x.\n",
    "    \"\"\"\n",
    "    assert x.shape[0] >= 3\n",
    "    assert x.shape[1] >= 5\n",
    "    last_row = None\n",
    "    third_col = None\n",
    "    first_two_rows_three_cols = None\n",
    "    even_rows_odd_cols = None\n",
    "    #############################################################################\n",
    "    #                    TODO: Implement this function                          #\n",
    "    #############################################################################\n",
    "    M, N = x.shape\n",
    "    \n",
    "    last_row = x[M-1, :]\n",
    "    third_col = x[:, 2]\n",
    "    first_two_rows_three_cols = x[:2, :3]\n",
    "    \n",
    "    even_row_idx = [i for i in range(M) if i % 2 == 1]\n",
    "    odd_col_idx = [j for j in range(N) if j % 2 == 0]\n",
    "    even_rows = x[even_row_idx, :]\n",
    "    even_rows_odd_cols = even_rows[:, odd_col_idx]\n",
    "    \n",
    "    #############################################################################\n",
    "    #                            END OF YOUR CODE                               #\n",
    "    #############################################################################\n",
    "    out = (\n",
    "        last_row,\n",
    "        third_col,\n",
    "        first_two_rows_three_cols,\n",
    "        even_rows_odd_cols,\n",
    "    )\n",
    "    return out\n",
    "\n",
    "x = torch.randn(6, 6)\n",
    "print(x)\n",
    "\n",
    "slice_indexing_practice(x)"
   ]
  },
  {
   "cell_type": "code",
   "execution_count": 8,
   "id": "1bd6819b",
   "metadata": {},
   "outputs": [
    {
     "data": {
      "text/plain": [
       "(tensor([-0.5253,  1.3649, -0.1693, -0.4050,  0.0250,  0.1875]),\n",
       " tensor([[-0.3991],\n",
       "         [ 0.5461],\n",
       "         [ 1.2956],\n",
       "         [-1.0232],\n",
       "         [ 0.1725],\n",
       "         [-0.1693]]),\n",
       " tensor([[ 0.0470,  1.3683, -0.3991],\n",
       "         [ 0.1765, -0.5895,  0.5461]]),\n",
       " tensor([[ 0.1765,  0.5461, -0.9206],\n",
       "         [-0.2349, -1.0232, -0.0184],\n",
       "         [-0.5253, -0.1693,  0.0250]]))"
      ]
     },
     "execution_count": 8,
     "metadata": {},
     "output_type": "execute_result"
    }
   ],
   "source": [
    "def slice_indexing_practice(x):\n",
    "    \"\"\"\n",
    "    Given a two-dimensional tensor x, extract and return several subtensors to\n",
    "    practice with slice indexing. Each tensor should be created using a single\n",
    "    slice indexing operation.\n",
    "\n",
    "    The input tensor should not be modified.\n",
    "\n",
    "    Input:\n",
    "    - x: Tensor of shape (M, N) -- M rows, N columns with M >= 3 and N >= 5.\n",
    "\n",
    "    Returns a tuple of:\n",
    "    - last_row: Tensor of shape (N,) giving the last row of x. It should be a\n",
    "        one-dimensional tensor.\n",
    "    - third_col: Tensor of shape (M, 1) giving the third column of x.\n",
    "        It should be a two-dimensional tensor.\n",
    "    - first_two_rows_three_cols: Tensor of shape (2, 3) giving the data in the\n",
    "        first two rows and first three columns of x.\n",
    "    - even_rows_odd_cols: Two-dimensional tensor containing the elements in the\n",
    "        even-valued rows and odd-valued columns of x.\n",
    "    \"\"\"\n",
    "    assert x.shape[0] >= 3\n",
    "    assert x.shape[1] >= 5\n",
    "    \n",
    "    # Getting the last row\n",
    "    last_row = x[-1, :]\n",
    "    \n",
    "    # Getting the third column\n",
    "    third_col = x[:, 2:3]\n",
    "    \n",
    "    # Getting the first two rows and first three columns\n",
    "    first_two_rows_three_cols = x[:2, :3]\n",
    "    \n",
    "    # Getting the even-valued rows and odd-valued columns. \n",
    "    # Note: Python's 0-based indexing means even row/column indices are actually odd-valued\n",
    "    even_rows_odd_cols = x[1::2, ::2]\n",
    "    \n",
    "    out = (\n",
    "        last_row,\n",
    "        third_col,\n",
    "        first_two_rows_three_cols,\n",
    "        even_rows_odd_cols,\n",
    "    )\n",
    "    return out\n",
    "\n",
    "slice_indexing_practice(x)"
   ]
  },
  {
   "cell_type": "code",
   "execution_count": 9,
   "id": "49dbf475",
   "metadata": {},
   "outputs": [
    {
     "name": "stdout",
     "output_type": "stream",
     "text": [
      "tensor([[0., 1., 2., 2., 2., 2.],\n",
      "        [0., 1., 2., 2., 2., 2.],\n",
      "        [3., 4., 3., 4., 5., 5.],\n",
      "        [3., 4., 3., 4., 5., 5.]])\n"
     ]
    }
   ],
   "source": [
    "def slice_assignment_practice(x):\n",
    "    \"\"\"\n",
    "    Given a two-dimensional tensor of shape (M, N) with M >= 4, N >= 6, mutate its\n",
    "    first 4 rows and 6 columns so they are equal to:\n",
    "\n",
    "    [0 1 2 2 2 2]\n",
    "    [0 1 2 2 2 2]\n",
    "    [3 4 3 4 5 5]\n",
    "    [3 4 3 4 5 5]\n",
    "\n",
    "    Your implementation must obey the following:\n",
    "    - You should mutate the tensor x in-place and return it\n",
    "    - You should only modify the first 4 rows and first 6 columns; all other\n",
    "        elements should remain unchanged\n",
    "    - You may only mutate the tensor using slice assignment operations, where you\n",
    "        assign an integer to a slice of the tensor\n",
    "    - You must use <= 6 slicing operations to achieve the desired result\n",
    "\n",
    "    Inputs:\n",
    "    - x: A tensor of shape (M, N) with M >= 4 and N >= 6\n",
    "\n",
    "    Returns: x\n",
    "    \"\"\"\n",
    "    #############################################################################\n",
    "    #                    TODO: Implement this function                          #\n",
    "    #############################################################################\n",
    "    x[:2, :2] = torch.tensor([0, 1])\n",
    "    x[:2, 2:6] = 2\n",
    "    \n",
    "    x[2:4, :4] = torch.tensor([3, 4, 3, 4])\n",
    "    x[2:4, 4:6] = 5\n",
    "    #############################################################################\n",
    "    #                            END OF YOUR CODE                               #\n",
    "    #############################################################################\n",
    "    return x\n",
    "\n",
    "x = torch.randn(4, 6)\n",
    "print(slice_assignment_practice(x))"
   ]
  },
  {
   "cell_type": "code",
   "execution_count": 10,
   "id": "6747e717",
   "metadata": {},
   "outputs": [
    {
     "name": "stdout",
     "output_type": "stream",
     "text": [
      "tensor([[ 0.8930, -0.8847, -1.3107, -1.4281],\n",
      "        [ 0.4373, -0.6120,  1.1659, -0.4659],\n",
      "        [ 0.6700, -1.1257,  0.9108, -0.3485],\n",
      "        [-1.0215,  1.6244,  0.9573, -0.0488]])\n"
     ]
    },
    {
     "data": {
      "text/plain": [
       "tensor([[ 0.8930,  0.8930, -1.3107, -0.8847],\n",
       "        [ 0.4373,  0.4373,  1.1659, -0.6120],\n",
       "        [ 0.6700,  0.6700,  0.9108, -1.1257],\n",
       "        [-1.0215, -1.0215,  0.9573,  1.6244]])"
      ]
     },
     "execution_count": 10,
     "metadata": {},
     "output_type": "execute_result"
    }
   ],
   "source": [
    "def shuffle_cols(x):\n",
    "    \"\"\"\n",
    "    Re-order the columns of an input tensor as described below.\n",
    "\n",
    "    Your implementation should construct the output tensor using a single integer\n",
    "    array indexing operation. The input tensor should not be modified.\n",
    "\n",
    "    Input:\n",
    "    - x: A tensor of shape (M, N) with N >= 3\n",
    "\n",
    "    Returns: A tensor y of shape (M, 4) where:\n",
    "    - The first two columns of y are copies of the first column of x\n",
    "    - The third column of y is the same as the third column of x\n",
    "    - The fourth column of y is the same as the second column of x\n",
    "    \"\"\"\n",
    "    y = None\n",
    "    #############################################################################\n",
    "    #                    TODO: Implement this function                          #\n",
    "    #############################################################################\n",
    "    y = torch.zeros(size=x.size())\n",
    "    y[:, 0] = x[:, 0]\n",
    "    y[:, 1] = x[:, 0]\n",
    "    y[:, 2] = x[:, 2]\n",
    "    y[:, 3] = x[:, 1]\n",
    "    #############################################################################\n",
    "    #                            END OF YOUR CODE                               #\n",
    "    #############################################################################\n",
    "    return y\n",
    "\n",
    "x = torch.randn(4, 4)\n",
    "print(x)\n",
    "shuffle_cols(x)"
   ]
  },
  {
   "cell_type": "code",
   "execution_count": 11,
   "id": "0284241d",
   "metadata": {},
   "outputs": [
    {
     "name": "stdout",
     "output_type": "stream",
     "text": [
      "tensor([[-1.6834, -0.5249,  0.2904],\n",
      "        [ 0.4917,  1.4531,  0.4839],\n",
      "        [-0.1546, -1.2765,  0.8918],\n",
      "        [-0.8609, -0.8063,  1.4577],\n",
      "        [-2.5110, -0.3585, -0.6673]])\n",
      "tensor([[-2.5110, -0.3585, -0.6673],\n",
      "        [-0.8609, -0.8063,  1.4577],\n",
      "        [-0.1546, -1.2765,  0.8918],\n",
      "        [ 0.4917,  1.4531,  0.4839],\n",
      "        [-1.6834, -0.5249,  0.2904]])\n"
     ]
    }
   ],
   "source": [
    "def reverse_rows(x):\n",
    "    \"\"\"\n",
    "    Reverse the rows of the input tensor.\n",
    "\n",
    "    Your implementation should construct the output tensor using a single integer\n",
    "    array indexing operation. The input tensor should not be modified.\n",
    "\n",
    "    Input:\n",
    "    - x: A tensor of shape (M, N)\n",
    "\n",
    "    Returns: A tensor y of shape (M, N) which is the same as x but with the rows\n",
    "            reversed; that is the first row of y is equal to the last row of x,\n",
    "            the second row of y is equal to the second to last row of x, etc.\n",
    "    \"\"\"\n",
    "    y = None\n",
    "    #############################################################################\n",
    "    #                    TODO: Implement this function                          #\n",
    "    #############################################################################\n",
    "    y = torch.zeros(size=x.size())\n",
    "    rows = x.shape[0]\n",
    "    for i in range(rows):\n",
    "        y[i, :] = x[rows-i-1, :]\n",
    "    #############################################################################\n",
    "    #                            END OF YOUR CODE                               #\n",
    "    #############################################################################\n",
    "    return y\n",
    "\n",
    "x = torch.randn(5, 3)\n",
    "print(x)\n",
    "print(reverse_rows(x))"
   ]
  },
  {
   "cell_type": "code",
   "execution_count": 12,
   "id": "30ce1680",
   "metadata": {},
   "outputs": [
    {
     "name": "stdout",
     "output_type": "stream",
     "text": [
      "tensor([[ 7.6369e-01,  8.0283e-01, -1.8417e+00,  1.1293e-03],\n",
      "        [-3.1203e-01,  1.5228e-01, -2.5155e-01,  9.7667e-01],\n",
      "        [ 5.7296e-01,  9.9878e-01,  6.9109e-01, -1.8780e+00],\n",
      "        [ 4.9315e-01,  7.6733e-01,  2.4348e-01, -8.9005e-01]])\n",
      "tensor([-0.3120,  0.8028,  0.2435])\n"
     ]
    }
   ],
   "source": [
    "def take_one_elem_per_col(x):\n",
    "    \"\"\"\n",
    "    Construct a new tensor by picking out one element from each column of the\n",
    "    input tensor as described below.\n",
    "\n",
    "    The input tensor should not be modified.\n",
    "\n",
    "    Input:\n",
    "    - x: A tensor of shape (M, N) with M >= 4 and N >= 3.\n",
    "\n",
    "    Returns: A tensor y of shape (3,) such that:\n",
    "    - The first element of y is the second element of the first column of x\n",
    "    - The second element of y is the first element of the second column of x\n",
    "    - The third element of y is the fourth element of the third column of x\n",
    "    \"\"\"\n",
    "    y = None\n",
    "    #############################################################################\n",
    "    #                    TODO: Implement this function                          #\n",
    "    #############################################################################\n",
    "    y = torch.zeros(3)\n",
    "    y[0] = x[1, 0]\n",
    "    y[1] = x[0, 1]\n",
    "    y[2] = x[3, 2]\n",
    "    #############################################################################\n",
    "    #                            END OF YOUR CODE                               #\n",
    "    #############################################################################\n",
    "    return y\n",
    "\n",
    "x = torch.randn(4, 4)\n",
    "print(x)\n",
    "print(take_one_elem_per_col(x))"
   ]
  },
  {
   "cell_type": "code",
   "execution_count": 13,
   "id": "6b877606",
   "metadata": {},
   "outputs": [
    {
     "name": "stdout",
     "output_type": "stream",
     "text": [
      "tensor([[ 0.7570,  0.1197, -0.5099,  1.0844],\n",
      "        [ 0.6646, -0.1421, -1.4828, -0.6374],\n",
      "        [ 0.8589,  3.7240, -0.1104, -0.2912],\n",
      "        [-0.9400, -0.0241, -1.8874, -1.7310]])\n"
     ]
    },
    {
     "data": {
      "text/plain": [
       "10"
      ]
     },
     "execution_count": 13,
     "metadata": {},
     "output_type": "execute_result"
    }
   ],
   "source": [
    "def count_negative_entries(x):\n",
    "    \"\"\"\n",
    "    Return the number of negative values in the input tensor x.\n",
    "\n",
    "    Your implementation should perform only a single indexing operation on the\n",
    "    input tensor. You should not use any explicit loops. The input tensor should\n",
    "    not be modified.\n",
    "\n",
    "    Input:\n",
    "    - x: A tensor of any shape\n",
    "\n",
    "    Returns:\n",
    "    - num_neg: Integer giving the number of negative values in x\n",
    "    \"\"\"\n",
    "    num_neg = 0\n",
    "    #############################################################################\n",
    "    #                    TODO: Implement this function                          #\n",
    "    #############################################################################\n",
    "    neg_x, neg_y = torch.where(x < 0)\n",
    "    num_neg = neg_x.shape[0]\n",
    "    #############################################################################\n",
    "    #                            END OF YOUR CODE                               #\n",
    "    #############################################################################\n",
    "    return num_neg\n",
    "\n",
    "x = torch.randn(4, 4)\n",
    "print(x)\n",
    "count_negative_entries(x)"
   ]
  },
  {
   "cell_type": "code",
   "execution_count": 14,
   "id": "dae21b77",
   "metadata": {},
   "outputs": [
    {
     "name": "stdout",
     "output_type": "stream",
     "text": [
      "tensor([[1., 0., 0., 0., 0.],\n",
      "        [0., 1., 0., 0., 0.],\n",
      "        [0., 0., 1., 0., 0.],\n",
      "        [0., 0., 0., 1., 0.],\n",
      "        [0., 0., 0., 0., 1.]])\n"
     ]
    }
   ],
   "source": [
    "def make_one_hot(x):\n",
    "    \"\"\"\n",
    "    Construct a tensor of one-hot-vectors from a list of Python integers.\n",
    "\n",
    "    Input:\n",
    "    - x: A list of N integers\n",
    "\n",
    "    Returns:\n",
    "    - y: A tensor of shape (N, C) and where C = 1 + max(x) is one more than the max\n",
    "        value in x. The nth row of y is a one-hot-vector representation of x[n];\n",
    "        In other words, if x[n] = c then y[n, c] = 1; all other elements of y are\n",
    "        zeros. The dtype of y should be torch.float32.\n",
    "    \"\"\"\n",
    "    y = None\n",
    "    #############################################################################\n",
    "    #                    TODO: Implement this function                          #\n",
    "    #############################################################################\n",
    "    N, C = len(x), 1 + max(x)\n",
    "    y = torch.zeros(size=(N, C))\n",
    "    for i in range(N):\n",
    "        item = x[i]\n",
    "        y[i, item] = 1\n",
    "    #############################################################################\n",
    "    #                            END OF YOUR CODE                               #\n",
    "    #############################################################################\n",
    "    return y\n",
    "\n",
    "x = [i for i in range(5)]\n",
    "print(make_one_hot(x))"
   ]
  },
  {
   "cell_type": "code",
   "execution_count": 16,
   "id": "65d1eb12",
   "metadata": {},
   "outputs": [
    {
     "name": "stdout",
     "output_type": "stream",
     "text": [
      "tensor([-1.9390,  0.6317, -1.1237,  2.1901, -0.5393,  0.5481, -1.9198, -1.7377,\n",
      "        -0.1590,  0.0128, -1.0353, -0.0859,  0.4900, -0.8594, -1.1845,  0.7316,\n",
      "        -0.5737, -1.0079, -1.2963, -0.6214, -0.0471, -1.2295, -0.0239,  0.1572])\n",
      "tensor([[-1.9390,  0.6317, -1.1237,  2.1901, -0.5393,  0.5481, -1.9198, -1.7377],\n",
      "        [-0.1590,  0.0128, -1.0353, -0.0859,  0.4900, -0.8594, -1.1845,  0.7316],\n",
      "        [-0.5737, -1.0079, -1.2963, -0.6214, -0.0471, -1.2295, -0.0239,  0.1572]])\n"
     ]
    }
   ],
   "source": [
    "def reshape_practice(x):\n",
    "    \"\"\"\n",
    "    Given an input tensor of shape (24,), return a reshaped tensor y of shape\n",
    "    (3, 8) such that\n",
    "\n",
    "    y = [\n",
    "        [x[0], x[1], x[2],  x[3],  x[12], x[13], x[14], x[15]],\n",
    "        [x[4], x[5], x[6],  x[7],  x[16], x[17], x[18], x[19]],\n",
    "        [x[8], x[9], x[10], x[11], x[20], x[21], x[22], x[23]],\n",
    "    ]\n",
    "\n",
    "    You must construct y by performing a sequence of reshaping operations on x\n",
    "    (view, t, transpose, permute, contiguous, reshape, etc). The input tensor\n",
    "    should not be modified.\n",
    "\n",
    "    Input:\n",
    "    - x: A tensor of shape (24,)\n",
    "\n",
    "    Returns:\n",
    "    - y: A reshaped version of x of shape (3, 8) as described above.\n",
    "    \"\"\"\n",
    "    y = None\n",
    "    #############################################################################\n",
    "    #                    TODO: Implement this function                          #\n",
    "    #############################################################################\n",
    "    y = x.reshape(3, 8)\n",
    "    #############################################################################\n",
    "    #                            END OF YOUR CODE                               #\n",
    "    #############################################################################\n",
    "    return y\n",
    "\n",
    "x = torch.randn(24)\n",
    "print(x)\n",
    "print(reshape_practice(x))"
   ]
  },
  {
   "cell_type": "code",
   "execution_count": 25,
   "id": "f639264b",
   "metadata": {},
   "outputs": [
    {
     "name": "stdout",
     "output_type": "stream",
     "text": [
      "tensor([[82, 33, 41, 54],\n",
      "        [ 1, 60,  2, 74],\n",
      "        [43, 65, 65, 23],\n",
      "        [76,  1, 13, 13]])\n",
      "tensor([[82,  0, 41, 54],\n",
      "        [ 0, 60,  2, 74],\n",
      "        [43, 65, 65,  0],\n",
      "        [76,  0, 13, 13]])\n"
     ]
    }
   ],
   "source": [
    "def zero_row_min(x):\n",
    "    \"\"\"\n",
    "    Return a copy of x, where the minimum value along each row has been set to 0.\n",
    "\n",
    "    For example, if x is:\n",
    "    x = torch.tensor([\n",
    "            [10, 20, 30],\n",
    "            [ 2,  5,  1]\n",
    "        ])\n",
    "\n",
    "    Then y = zero_row_min(x) should be:\n",
    "    torch.tensor([\n",
    "        [0, 20, 30],\n",
    "        [2,  5,  0]\n",
    "    ])\n",
    "\n",
    "    Your implementation should use reduction and indexing operations; you should\n",
    "    not use any explicit loops. The input tensor should not be modified.\n",
    "\n",
    "    Inputs:\n",
    "    - x: Tensor of shape (M, N)\n",
    "\n",
    "    Returns:\n",
    "    - y: Tensor of shape (M, N) that is a copy of x, except the minimum value\n",
    "        along each row is replaced with 0.\n",
    "    \"\"\"\n",
    "    \n",
    "    y = x.clone()\n",
    "    row_min_indices = torch.argmin(x, dim=1)\n",
    "    row_indices = torch.arange(x.shape[0])\n",
    "    y[row_indices, row_min_indices] = 0\n",
    "    return y\n",
    "\n",
    "x = torch.randint(low=1, high=100, size=(4, 4))\n",
    "print(x)\n",
    "print(zero_row_min(x))"
   ]
  },
  {
   "cell_type": "code",
   "execution_count": 26,
   "id": "25ca4d08",
   "metadata": {},
   "outputs": [
    {
     "name": "stdout",
     "output_type": "stream",
     "text": [
      "tensor([[-0.2494, -2.0566],\n",
      "        [ 0.5065,  0.1605],\n",
      "        [ 0.2388,  1.0351],\n",
      "        [ 0.8338,  2.7330]])\n"
     ]
    }
   ],
   "source": [
    "def mm_on_gpu(x, w):\n",
    "    \"\"\"\n",
    "    Perform matrix multiplication on GPU\n",
    "\n",
    "    Specifically, you should (i) place each input on GPU first, and then\n",
    "    (ii) perform the matrix multiplication operation. Finally, (iii) return the\n",
    "    final result, which is on CPU for a fair in-place replacement with the mm_on_cpu.\n",
    "\n",
    "    When you move the tensor to GPU, PLEASE use \"your_tensor_intance.cuda()\" operation.\n",
    "\n",
    "    Input:\n",
    "    - x: Tensor of shape (A, B), on CPU\n",
    "    - w: Tensor of shape (B, C), on CPU\n",
    "\n",
    "    Returns:\n",
    "    - y: Tensor of shape (A, C) as described above. It should not be in GPU.\n",
    "    \"\"\"\n",
    "    \n",
    "    # Move tensors to GPU\n",
    "    x_gpu = x.cuda()\n",
    "    w_gpu = w.cuda()\n",
    "    \n",
    "    # Perform matrix multiplication on GPU\n",
    "    y_gpu = x_gpu.mm(w_gpu)\n",
    "    \n",
    "    # Move result back to CPU\n",
    "    y = y_gpu.cpu()\n",
    "    \n",
    "    return y\n",
    "\n",
    "x = torch.randn(4, 3)\n",
    "y = torch.randn(3, 2)\n",
    "\n",
    "print(mm_on_gpu(x, y))"
   ]
  },
  {
   "cell_type": "code",
   "execution_count": 31,
   "id": "2e8b398d",
   "metadata": {},
   "outputs": [],
   "source": [
    "def batched_matrix_multiply(x, y, use_loop=True):\n",
    "    \"\"\"\n",
    "    Perform batched matrix multiplication between the tensor x of shape (B, N, M)\n",
    "    and the tensor y of shape (B, M, P).\n",
    "\n",
    "    If use_loop=True, then you should use an explicit loop over the batch\n",
    "    dimension B. If loop=False, then you should instead compute the batched\n",
    "    matrix multiply without an explicit loop using a single PyTorch operator.\n",
    "\n",
    "    Inputs:\n",
    "    - x: Tensor of shape (B, N, M)\n",
    "    - y: Tensor of shape (B, M, P)\n",
    "    - use_loop: Whether to use an explicit Python loop.\n",
    "\n",
    "    Hint: torch.stack, bmm\n",
    "\n",
    "    Returns:\n",
    "    - z: Tensor of shape (B, N, P) where z[i] of shape (N, P) is the result of\n",
    "        matrix multiplication between x[i] of shape (N, M) and y[i] of shape\n",
    "        (M, P). It should have the same dtype as x.\n",
    "    \"\"\"\n",
    "    \n",
    "    if use_loop:\n",
    "        results = []\n",
    "        for xi, yi in zip(x, y):\n",
    "            results.append(mm_on_cpu(xi, yi))\n",
    "        z = torch.stack(results)\n",
    "    else:\n",
    "        z = torch.bmm(x, y)\n",
    "    \n",
    "    return z\n",
    "\n",
    "def mm_on_cpu(x, w):\n",
    "    \"\"\"\n",
    "    (helper function) Perform matrix multiplication on CPU.\n",
    "    PLEASE DO NOT EDIT THIS FUNCTION CALL.\n",
    "\n",
    "    Input:\n",
    "    - x: Tensor of shape (A, B), on CPU\n",
    "    - w: Tensor of shape (B, C), on CPU\n",
    "\n",
    "    Returns:\n",
    "    - y: Tensor of shape (A, C) as described above. It should not be in GPU.\n",
    "    \"\"\"\n",
    "    y = x.mm(w)\n",
    "    return y\n",
    "\n",
    "B = 5\n",
    "x = torch.randn(B, 4, 3)\n",
    "y = torch.randn(B, 3, 2)"
   ]
  },
  {
   "cell_type": "code",
   "execution_count": 32,
   "id": "447326d5",
   "metadata": {},
   "outputs": [
    {
     "name": "stdout",
     "output_type": "stream",
     "text": [
      "tensor([[[-1.2391,  0.9619],\n",
      "         [ 1.0563, -0.2973],\n",
      "         [-2.6471,  1.6169],\n",
      "         [-1.6114,  2.5486]],\n",
      "\n",
      "        [[-0.0909, -2.3243],\n",
      "         [-0.2765,  1.2771],\n",
      "         [ 0.6526,  0.0677],\n",
      "         [ 0.1805,  2.5951]],\n",
      "\n",
      "        [[ 0.6110, -0.9223],\n",
      "         [ 0.4607, -0.4701],\n",
      "         [-0.3135, -0.0304],\n",
      "         [ 0.5366, -1.1630]],\n",
      "\n",
      "        [[-1.5581, -0.3103],\n",
      "         [-1.2317, -0.3475],\n",
      "         [ 0.2468,  0.4873],\n",
      "         [-0.7334, -0.5932]],\n",
      "\n",
      "        [[-0.0343,  0.3308],\n",
      "         [-0.3402,  2.4208],\n",
      "         [-0.2126, -0.3742],\n",
      "         [ 0.1167,  1.1282]]])\n",
      "CPU times: user 2.1 ms, sys: 2.42 ms, total: 4.52 ms\n",
      "Wall time: 3.3 ms\n"
     ]
    }
   ],
   "source": [
    "%%time\n",
    "print(batched_matrix_multiply(x, y))"
   ]
  },
  {
   "cell_type": "code",
   "execution_count": 33,
   "id": "fa8c8c36",
   "metadata": {},
   "outputs": [
    {
     "name": "stdout",
     "output_type": "stream",
     "text": [
      "tensor([[[-1.2391,  0.9619],\n",
      "         [ 1.0563, -0.2973],\n",
      "         [-2.6471,  1.6169],\n",
      "         [-1.6114,  2.5486]],\n",
      "\n",
      "        [[-0.0909, -2.3243],\n",
      "         [-0.2765,  1.2771],\n",
      "         [ 0.6526,  0.0677],\n",
      "         [ 0.1805,  2.5951]],\n",
      "\n",
      "        [[ 0.6110, -0.9223],\n",
      "         [ 0.4607, -0.4701],\n",
      "         [-0.3135, -0.0304],\n",
      "         [ 0.5366, -1.1630]],\n",
      "\n",
      "        [[-1.5581, -0.3103],\n",
      "         [-1.2317, -0.3475],\n",
      "         [ 0.2468,  0.4873],\n",
      "         [-0.7334, -0.5932]],\n",
      "\n",
      "        [[-0.0343,  0.3308],\n",
      "         [-0.3402,  2.4208],\n",
      "         [-0.2126, -0.3742],\n",
      "         [ 0.1167,  1.1282]]])\n",
      "CPU times: user 106 ms, sys: 0 ns, total: 106 ms\n",
      "Wall time: 6.46 ms\n"
     ]
    }
   ],
   "source": [
    "%%time\n",
    "print(batched_matrix_multiply(x, y, use_loop=False))"
   ]
  },
  {
   "cell_type": "code",
   "execution_count": 1,
   "id": "ca1dd5db",
   "metadata": {},
   "outputs": [],
   "source": [
    "from nltk.tokenize import word_tokenize"
   ]
  },
  {
   "cell_type": "code",
   "execution_count": 2,
   "id": "ddb71bf0",
   "metadata": {},
   "outputs": [
    {
     "name": "stdout",
     "output_type": "stream",
     "text": [
      "['안녕하세요', '!', '오늘은', '좋은', '날씨네요', '.']\n"
     ]
    }
   ],
   "source": [
    "text = \"안녕하세요! 오늘은 좋은 날씨네요.\"\n",
    "tokens = word_tokenize(text)\n",
    "print(tokens)"
   ]
  },
  {
   "cell_type": "code",
   "execution_count": null,
   "id": "31c9178e",
   "metadata": {},
   "outputs": [],
   "source": []
  }
 ],
 "metadata": {
  "kernelspec": {
   "display_name": "Python 3 (ipykernel)",
   "language": "python",
   "name": "python3"
  },
  "language_info": {
   "codemirror_mode": {
    "name": "ipython",
    "version": 3
   },
   "file_extension": ".py",
   "mimetype": "text/x-python",
   "name": "python",
   "nbconvert_exporter": "python",
   "pygments_lexer": "ipython3",
   "version": "3.10.12"
  }
 },
 "nbformat": 4,
 "nbformat_minor": 5
}
